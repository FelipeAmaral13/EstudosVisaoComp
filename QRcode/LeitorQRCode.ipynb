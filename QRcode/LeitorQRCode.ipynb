{
 "cells": [
  {
   "cell_type": "code",
   "execution_count": 1,
   "metadata": {},
   "outputs": [
    {
     "name": "stdout",
     "output_type": "stream",
     "text": [
      "4.3.0\n"
     ]
    }
   ],
   "source": [
    "#########################################\n",
    "#                                       #\n",
    "#   Programa pra gera e ler um QRcode   #\n",
    "#                                       #\n",
    "#########################################\n",
    "\n",
    "#Bibliotecas\n",
    "import cv2\n",
    "from pyzbar.pyzbar import decode, ZBarSymbol\n",
    "import pyqrcode\n",
    "import qrcode\n",
    "import matplotlib.pyplot as plt\n",
    "\n",
    "print(cv2.__version__)\n",
    "\n",
    "#Gerar o QRcode\n",
    "\n",
    "def qrcodeGen():\n",
    "    #Qrcode teste\n",
    "    qr = qrcode.QRCode(\n",
    "    version = 3, #Tamanho do QRCode (1-40)\n",
    "    error_correction = qrcode.constants.ERROR_CORRECT_H, # Error Correction (ERROR_CORRECT_L, ERROR_CORRECT_M, ERROR_CORRECT_Q, ERROR_CORRECT_H)\n",
    "    box_size = 10, #QUandos pixels cada \"box\" do QRcode tem\n",
    "    border = 4, #Quantos boxes-Ticks (min=4)\n",
    "    )\n",
    "    dados = \"Teste\"\n",
    "\n",
    "    qr.add_data(dados)\n",
    "    qr.make(fit=True)\n",
    "\n",
    "    img = qr.make_image()\n",
    "    img.save(\"image.png\")\n",
    "\n",
    "qrcodeGen()"
   ]
  },
  {
   "cell_type": "code",
   "execution_count": 2,
   "metadata": {},
   "outputs": [
    {
     "data": {
      "text/plain": [
       "<matplotlib.image.AxesImage at 0x7f118d85f760>"
      ]
     },
     "execution_count": 2,
     "metadata": {},
     "output_type": "execute_result"
    },
    {
     "data": {
      "image/png": "[encoded data removed]",
      "text/plain": [
       "<Figure size 432x288 with 1 Axes>"
      ]
     },
     "metadata": {
      "needs_background": "light"
     },
     "output_type": "display_data"
    }
   ],
   "source": [
    "img = cv2.imread('image.png')\n",
    "gray = cv2.cvtColor(img, cv2.COLOR_BGR2GRAY)\n",
    "plt.imshow(img, cmap = 'gray')"
   ]
  },
  {
   "cell_type": "code",
   "execution_count": 8,
   "metadata": {},
   "outputs": [
    {
     "name": "stdout",
     "output_type": "stream",
     "text": [
      "[Decoded(data=b'Teste', type='QRCODE', rect=Rect(left=40, top=40, width=290, height=290), polygon=[Point(x=40, y=40), Point(x=40, y=330), Point(x=330, y=330), Point(x=330, y=40)])]\n"
     ]
    }
   ],
   "source": [
    "print(decode(img))"
   ]
  },
  {
   "cell_type": "code",
   "execution_count": 3,
   "metadata": {},
   "outputs": [
    {
     "data": {
      "text/plain": [
       "<matplotlib.image.AxesImage at 0x7f118d7fefd0>"
      ]
     },
     "execution_count": 3,
     "metadata": {},
     "output_type": "execute_result"
    },
    {
     "data": {
      "image/png": "[encoded data removed]",
      "text/plain": [
       "<Figure size 432x288 with 1 Axes>"
      ]
     },
     "metadata": {
      "needs_background": "light"
     },
     "output_type": "display_data"
    }
   ],
   "source": [
    "for code in decode(img):\n",
    "    points = code.polygon\n",
    "    # Se os pontos não formarem um quad, encontre o convexHull\n",
    "    if len(points) > 4 : \n",
    "        hull = cv2.convexHull(np.array([point for point in points], dtype=np.float32))\n",
    "        hull = list(map(tuple, np.squeeze(hull)))\n",
    "    else : \n",
    "        hull = points\n",
    "    # Numero de pontos do convexHull\n",
    "    n = len(hull)     \n",
    "    # Draw the convext hull\n",
    "    for j in range(0,n):\n",
    "        cv2.line(img, hull[j], hull[ (j+1) % n], (255,0,0), 3)\n",
    "        \n",
    "plt.imshow(img, cmap = 'gray')"
   ]
  },
  {
   "cell_type": "code",
   "execution_count": 7,
   "metadata": {},
   "outputs": [
    {
     "data": {
      "text/plain": [
       "<matplotlib.image.AxesImage at 0x7f118d63d0d0>"
      ]
     },
     "execution_count": 7,
     "metadata": {},
     "output_type": "execute_result"
    },
    {
     "data": {
      "image/png": "[encoded data removed]",
      "text/plain": [
       "<Figure size 432x288 with 1 Axes>"
      ]
     },
     "metadata": {
      "needs_background": "light"
     },
     "output_type": "display_data"
    }
   ],
   "source": [
    "for code in decode(img):\n",
    "    x = code.rect.left\n",
    "    y = code.rect.top\n",
    "    barCode = str(code.data)\n",
    "    cv2.putText(img, barCode, (x, y-10), cv2.FONT_HERSHEY_SIMPLEX, 1, (0,0,255), 1, cv2.LINE_AA)\n",
    "            \n",
    "plt.imshow(img, cmap = 'gray')"
   ]
  },
  {
   "cell_type": "code",
   "execution_count": null,
   "metadata": {},
   "outputs": [],
   "source": []
  }
 ],
 "metadata": {
  "kernelspec": {
   "display_name": "Python 3",
   "language": "python",
   "name": "python3"
  },
  "language_info": {
   "codemirror_mode": {
    "name": "ipython",
    "version": 3
   },
   "file_extension": ".py",
   "mimetype": "text/x-python",
   "name": "python",
   "nbconvert_exporter": "python",
   "pygments_lexer": "ipython3",
   "version": "3.8.2"
  }
 },
 "nbformat": 4,
 "nbformat_minor": 4
}

{
 "cells": [
  {
   "cell_type": "code",
   "execution_count": 5,
   "metadata": {},
   "outputs": [],
   "source": [
    "import cv2\n",
    "import numpy as np\n",
    "\n",
    "cap = cv2.VideoCapture(0)\n",
    "\n",
    "while True:\n",
    "\n",
    "    ret, frame = cap.read()\n",
    "    hsv_frame = cv2.cvtColor(frame, cv2.COLOR_BGR2HSV)\n",
    "\n",
    "    # Verm\n",
    "    #red_low = np.array([160, 155, 85])\n",
    "    #red_high = np.array([180, 255, 255])\n",
    "    #red_mask = cv2.inRange(hsv_frame, red_low, red_high)\n",
    "    #red = cv2.bitwise_and(frame, frame, mask=red_mask)\n",
    "    \n",
    "    # Azul\n",
    "    blue_low = np.array([94, 80, 2])\n",
    "    blue_high = np.array([126, 255, 255])\n",
    "    blue_mask = cv2.inRange(hsv_frame, blue_low, blue_high)\n",
    "    blue = cv2.bitwise_and(frame, frame, mask=blue_mask)\n",
    "\n",
    "\n",
    "    # Todas as cores exceto Branco\n",
    "    #low = np.array([0, 40, 0])\n",
    "    #high = np.array([180, 255, 255])\n",
    "    #mask = cv2.inRange(frame, low, high)\n",
    "    #result = cv2.bitwise_and(frame, frame, mask=mask)\n",
    "\n",
    "\n",
    "    #cv2.imshow(\"Frame\", frame)\n",
    "    #cv2.imshow(\"Frame\", result)\n",
    "    #cv2.imshow(\"RED\", red)\n",
    "    cv2.imshow(\"Blue\", blue)\n",
    "\n",
    "\n",
    "    if cv2.waitKey(1) == 27:\n",
    "        break\n",
    "\n",
    "cv2.destroyAllWindows()\n",
    "cap.release()\n"
   ]
  },
  {
   "cell_type": "code",
   "execution_count": null,
   "metadata": {},
   "outputs": [],
   "source": []
  }
 ],
 "metadata": {
  "kernelspec": {
   "display_name": "Python 3",
   "language": "python",
   "name": "python3"
  },
  "language_info": {
   "codemirror_mode": {
    "name": "ipython",
    "version": 3
   },
   "file_extension": ".py",
   "mimetype": "text/x-python",
   "name": "python",
   "nbconvert_exporter": "python",
   "pygments_lexer": "ipython3",
   "version": "3.8.2"
  }
 },
 "nbformat": 4,
 "nbformat_minor": 4
}
